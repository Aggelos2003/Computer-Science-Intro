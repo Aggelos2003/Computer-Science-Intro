{
 "cells": [
  {
   "cell_type": "code",
   "execution_count": 3,
   "id": "cfabce2e",
   "metadata": {},
   "outputs": [],
   "source": [
    "import requests\n",
    "import math\n",
    "\n",
    "url = 'https://drand.cloudflare.com/public/latest'\n",
    "payload = {}\n",
    "headers = {}\n",
    "\n",
    "response = requests.request(\"GET\", url, headers=headers, data=payload)\n",
    "json = response.json()\n",
    "round = json[\"round\"]\n",
    "\n",
    "randomness_lst = []\n",
    "for i in range(0,100):\n",
    "    url = 'https://drand.cloudflare.com/public/' + str(round)\n",
    "    response = requests.request(\"GET\", url, headers=headers, data=payload)\n",
    "    json = response.json()\n",
    "    randomness = json[\"randomness\"]\n",
    "    randomness_lst.append(randomness)\n",
    "    round = round - 1\n",
    "print(randomness_lst)    "
   ]
  },
  {
   "cell_type": "code",
   "execution_count": 30,
   "id": "fafb1061",
   "metadata": {},
   "outputs": [],
   "source": [
    "def calculate_0_1(res):\n",
    "\n",
    "    synexomena_0 = 0 \n",
    "    synexomena_1 = 0\n",
    "    max1 = 0\n",
    "    max2 = 0\n",
    "    for i in res:\n",
    "        if i ==\"0\":\n",
    "            synexomena_0 +=1\n",
    "            if synexomena_0> max1:\n",
    "               max1 = synexomena_0\n",
    "        else:\n",
    "            synexomena_0 = 0\n",
    "        if i==\"1\":\n",
    "            synexomena_1 +=1\n",
    "            if synexomena_1> max2:\n",
    "               max2 = synexomena_1\n",
    "        else:\n",
    "            synexomena_1 = 0\n",
    "    return max1,max2\n",
    "\n",
    "max0 = 0\n",
    "max1 = 0\n",
    "for i in randomness_lst:\n",
    "    ini_string = str(i) \n",
    "    res = \"{0:08b}\".format(int(ini_string, 16))\n",
    "    #print ( str(res))\n",
    "    count1,count2 = calculate_0_1(res)\n",
    "    #print (\"times\" , count1,count2)\n",
    "    if count1> max0:\n",
    "         max0 = count1\n",
    "    if count2> max1:\n",
    "          max1 = count2\n",
    "print(max0)\n",
    "print(max1)"
   ]
  }
 ],
 "metadata": {
  "kernelspec": {
   "display_name": "Python 3 (ipykernel)",
   "language": "python",
   "name": "python3"
  },
  "language_info": {
   "codemirror_mode": {
    "name": "ipython",
    "version": 3
   },
   "file_extension": ".py",
   "mimetype": "text/x-python",
   "name": "python",
   "nbconvert_exporter": "python",
   "pygments_lexer": "ipython3",
   "version": "3.10.2"
  }
 },
 "nbformat": 4,
 "nbformat_minor": 5
}
