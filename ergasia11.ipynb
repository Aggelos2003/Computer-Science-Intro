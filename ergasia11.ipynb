{
 "cells": [
  {
   "cell_type": "code",
   "execution_count": 16,
   "id": "2e877e28",
   "metadata": {
    "scrolled": true
   },
   "outputs": [],
   "source": [
    "import requests\n",
    "import math\n",
    "url = 'https://drand.cloudflare.com/public/latest'\n",
    "payload = {}\n",
    "headers = {}\n",
    "\n",
    "response = requests.request(\"GET\", url, headers=headers, data=payload)\n",
    "json = response.json()\n",
    "round = json[\"round\"]\n",
    "\n",
    "randomness_lst = []\n",
    "for i in range(0,20):\n",
    "    url = 'https://drand.cloudflare.com/public/' + str(round)\n",
    "    response = requests.request(\"GET\", url, headers=headers, data=payload)\n",
    "    json = response.json()\n",
    "    randomness = json[\"randomness\"]\n",
    "    randomness_lst.append(randomness)\n",
    "    round = round - 1  \n",
    "    print(randomness_lst)"
   ]
  },
  {
   "cell_type": "code",
   "execution_count": 17,
   "id": "ad01349c",
   "metadata": {},
   "outputs": [],
   "source": [
    "entropy = 0\n",
    "for i in  randomness_lst:\n",
    "    entropy += len(i)*(-1/16*math.log(1/16))    \n",
    "print(entropy)"
   ]
  }
 ],
 "metadata": {
  "kernelspec": {
   "display_name": "Python 3 (ipykernel)",
   "language": "python",
   "name": "python3"
  },
  "language_info": {
   "codemirror_mode": {
    "name": "ipython",
    "version": 3
   },
   "file_extension": ".py",
   "mimetype": "text/x-python",
   "name": "python",
   "nbconvert_exporter": "python",
   "pygments_lexer": "ipython3",
   "version": "3.10.2"
  }
 },
 "nbformat": 4,
 "nbformat_minor": 5
}
