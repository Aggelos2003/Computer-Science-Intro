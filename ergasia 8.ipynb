{
 "cells": [
  {
   "cell_type": "code",
   "execution_count": null,
   "id": "97dd2d7d",
   "metadata": {},
   "outputs": [],
   "source": [
    "import random\n",
    "n = 8\n",
    "m = 8\n",
    "def find_points(n, m):\n",
    "    pontoi_pyrgoy = 0\n",
    "    pontoi_aks = 0\n",
    "\n",
    "    for count in range(0,100):\n",
    "        pyrgos_i = random.randint(0,n)\n",
    "        pyrgos_j = random.randint(0,m)\n",
    "\n",
    "        aks_i = random.randint(0,n)\n",
    "        aks_j = random.randint(0,m)\n",
    "\n",
    "        if pyrgos_i == aks_i or  pyrgos_j == aks_j:\n",
    "            pontoi_pyrgoy += 1\n",
    "        if pyrgos_i - pyrgos_j == aks_i - aks_j or pyrgos_i + pyrgos_j == aks_i + aks_j:\n",
    "            pontoi_aks += 1\n",
    "\n",
    "    print('pontoi_pyrgoy:', pontoi_pyrgoy)\n",
    "    print('pontoi_aks:', pontoi_aks)\n",
    "find_points(8,8)\n",
    "find_points(7,7)\n",
    "find_points(7,8)"
   ]
  }
 ],
 "metadata": {
  "kernelspec": {
   "display_name": "Python 3 (ipykernel)",
   "language": "python",
   "name": "python3"
  },
  "language_info": {
   "codemirror_mode": {
    "name": "ipython",
    "version": 3
   },
   "file_extension": ".py",
   "mimetype": "text/x-python",
   "name": "python",
   "nbconvert_exporter": "python",
   "pygments_lexer": "ipython3",
   "version": "3.10.2"
  }
 },
 "nbformat": 4,
 "nbformat_minor": 5
}
